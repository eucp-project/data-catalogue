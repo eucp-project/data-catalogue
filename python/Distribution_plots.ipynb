{
 "cells": [
  {
   "cell_type": "code",
   "execution_count": 1,
   "metadata": {},
   "outputs": [],
   "source": [
    "import pandas as pd"
   ]
  },
  {
   "cell_type": "code",
   "execution_count": 21,
   "metadata": {},
   "outputs": [],
   "source": [
    "def find_ancestor(model):\n",
    "    cpm_parents = { # cpm: rcm driving model\n",
    "    'CLMcom-CMCC-CCLM5-0-9': 'CCLM4-8-17 ICHEC-EC-EARTH',\n",
    "    'CNRM-AROME41t1': 'ALADIN63 CNRM-CERFACS-CNRM-CM5',\n",
    "    'COSMO-pompa': 'CCLM4-8-17 MPI-M-MPI-ESM-LR',\n",
    "    'GERICS-REMO2015': 'REMO2015 MPI-M-MPI-ESM-LR',\n",
    "    'HCLIMcom-HCLIM38-AROME': 'HCLIMcom-HCLIM38-ALADIN ICHEC-EC-EARTH',\n",
    "    'HadREM3-RA-UM10.1': 'MOHC-HadGEM3-GC3.1-N512 MOHC-HadGEM2-ES',\n",
    "    'ICTP-RegCM4-7-0': 'ICTP-RegCM4-7-0 MOHC-HadGEM2-ES',\n",
    "    \"ICTP-RegCM4-7\": \"ICTP-RegCM4-7-0 MOHC-HadGEM2-ES\",\n",
    "    'KNMI-HCLIM38h1-AROME': 'KNMI-RACMO23E KNMI-EC-EARTH',\n",
    "    'SMHI-HCLIM38-AROME': 'SMHI-HCLIM38-ALADIN ICHEC-EC-EARTH',\n",
    "    }\n",
    "    rcm_parents = { # rcm: gcm driving model\n",
    "      'ALADIN53 CNRM-CERFACS-CNRM-CM5': 'CNRM-CM5',\n",
    "      'ALADIN63 CNRM-CERFACS-CNRM-CM5': 'CNRM-CM5',\n",
    "      'ALADIN63 MOHC-HadGEM2-ES': 'HadGEM2-ES',\n",
    "      'ALADIN63 MPI-M-MPI-ESM-LR': 'MPI-ESM-LR',\n",
    "      'ALADIN63 NCC-NorESM1-M': 'NorESM1-M',\n",
    "      'CCLM4-8-17 CNRM-CERFACS-CNRM-CM5': 'CNRM-CM5',\n",
    "      'CCLM4-8-17 ICHEC-EC-EARTH': 'EC-EARTH',\n",
    "      'CCLM4-8-17 MOHC-HadGEM2-ES': 'HadGEM2-ES',\n",
    "      'CCLM4-8-17 MPI-M-MPI-ESM-LR': 'MPI-ESM-LR',\n",
    "      'HadREM3-GA7-05 CNRM-CERFACS-CNRM-CM5': 'CNRM-CM5',\n",
    "      'HadREM3-GA7-05 ICHEC-EC-EARTH': 'EC-EARTH',\n",
    "      'HadREM3-GA7-05 MOHC-HadGEM2-ES': 'HadGEM2-ES',\n",
    "      'HadREM3-GA7-05 MPI-M-MPI-ESM-LR': 'MPI-ESM-LR',\n",
    "      'HadREM3-GA7-05 NCC-NorESM1-M': 'NorESM1-M',\n",
    "      'HCLIMcom-HCLIM38-ALADIN ICHEC-EC-EARTH': 'EC-EARTH',\n",
    "      'HIRHAM5 CNRM-CERFACS-CNRM-CM5': 'CNRM-CM5',\n",
    "      'HIRHAM5 ICHEC-EC-EARTH': 'EC-EARTH',\n",
    "      'HIRHAM5 MOHC-HadGEM2-ES': 'HadGEM2-ES',\n",
    "      'HIRHAM5 NCC-NorESM1-M': 'NorESM1-M',\n",
    "      'ICTP-RegCM4-7-0 MOHC-HadGEM2-ES': 'HadGEM2-ES',\n",
    "      'KNMI-RACMO23E KNMI-EC-EARTH': 'EC-EARTH',\n",
    "      'MOHC-HadGEM3-GC3.1-N512 MOHC-HadGEM2-ES': 'HadGEM2-ES',\n",
    "      'RACMO22E CNRM-CERFACS-CNRM-CM5': 'CNRM-CM5',\n",
    "      'RACMO22E ICHEC-EC-EARTH': 'EC-EARTH',\n",
    "      'RACMO22E MOHC-HadGEM2-ES': 'HadGEM2-ES',\n",
    "      'RACMO22E NCC-NorESM1-M': 'NorESM1-M',\n",
    "      'RCA4 CNRM-CERFACS-CNRM-CM5': 'CNRM-CM5',\n",
    "      'RCA4 ICHEC-EC-EARTH': 'EC-EARTH',\n",
    "      'RCA4 IPSL-IPSL-CM5A-MR': 'IPSL-CM5A-MR',\n",
    "      'RCA4 MOHC-HadGEM2-ES': 'HadGEM2-ES',\n",
    "      'RCA4 MPI-M-MPI-ESM-LR': 'MPI-ESM-LR',\n",
    "      'RCA4 NCC-NorESM1-M': 'NorESM1-M',\n",
    "      'RegCM4-6 MOHC-HadGEM2-ES': 'HadGEM2-ES',\n",
    "      'REMO2009 MPI-M-MPI-ESM-LR': 'MPI-ESM-LR',\n",
    "      'REMO2015 MPI-M-MPI-ESM-LR': 'MPI-ESM-LR',\n",
    "      'REMO2015 NCC-NorESM1-M': 'NorESM1-M',\n",
    "      'SMHI-HCLIM38-ALADIN ICHEC-EC-EARTH': 'EC-EARTH',\n",
    "    }\n",
    "    if model in cpm_parents:\n",
    "        return rcm_parents[cpm_parents[model]]\n",
    "    if model in rcm_parents:\n",
    "        return rcm_parents[model]\n",
    "    return model\n",
    "\n",
    "def rename_project(project):\n",
    "    if project == \"cordex-cpm\":\n",
    "        return \"CPM\"\n",
    "    if project == \"UKCP18 land-gcm\":\n",
    "        return \"UKCP_gcm\"\n",
    "    if project == \"UKCP18 land-rcm\":\n",
    "        return \"UKCP_rcm\"\n",
    "    return project\n"
   ]
  },
  {
   "cell_type": "code",
   "execution_count": 22,
   "metadata": {},
   "outputs": [],
   "source": [
    "for season in ['DJF', 'JJA']:\n",
    "  for region in ['ALP-3', 'CEE-3', 'CEU-3', 'NEU-3', 'NWE-3', 'SEE-3', 'SWE-3']:\n",
    "    for variable in ['tas', 'pr']:\n",
    "      infile = f'~/eucp-project/tom_data/zenodo/{region}_{season}_{variable}.csv'\n",
    "      outfile = f'~/eucp-project/data-catalogue/static/lines_of_evidence/{region}_{season}_{variable}.json'\n",
    "      \n",
    "      df = pd.read_csv(infile)\n",
    "      df['project'] = df.project.map(rename_project)\n",
    "      df['model'] = df.model.where(df.project != 'CPM', df.model.map(lambda model: model.split(' ')[0]))\n",
    "      df['ancestor'] = df.model.map(find_ancestor)\n",
    "      df = df.where(df['data type'] == 'standard')\n",
    "\n",
    "      df.to_json(outfile, orient='records')"
   ]
  },
  {
   "cell_type": "markdown",
   "metadata": {},
   "source": [
    "# To see what it looks like:"
   ]
  },
  {
   "cell_type": "code",
   "execution_count": 4,
   "metadata": {},
   "outputs": [
    {
     "data": {
      "text/plain": [
       "array(['CMIP5', 'CMIP6', 'CORDEX', 'cordex-cpm', 'UKCP18 land-gcm',\n",
       "       'UKCP18 land-rcm'], dtype=object)"
      ]
     },
     "execution_count": 4,
     "metadata": {},
     "output_type": "execute_result"
    }
   ],
   "source": [
    "df.project.unique()"
   ]
  },
  {
   "cell_type": "code",
   "execution_count": 5,
   "metadata": {},
   "outputs": [
    {
     "data": {
      "text/html": [
       "<div>\n",
       "<style scoped>\n",
       "    .dataframe tbody tr th:only-of-type {\n",
       "        vertical-align: middle;\n",
       "    }\n",
       "\n",
       "    .dataframe tbody tr th {\n",
       "        vertical-align: top;\n",
       "    }\n",
       "\n",
       "    .dataframe thead th {\n",
       "        text-align: right;\n",
       "    }\n",
       "</style>\n",
       "<table border=\"1\" class=\"dataframe\">\n",
       "  <thead>\n",
       "    <tr style=\"text-align: right;\">\n",
       "      <th></th>\n",
       "      <th>model</th>\n",
       "      <th>value</th>\n",
       "      <th>project</th>\n",
       "      <th>data type</th>\n",
       "      <th>ancestor</th>\n",
       "    </tr>\n",
       "  </thead>\n",
       "  <tbody>\n",
       "    <tr>\n",
       "      <th>110</th>\n",
       "      <td>CLMcom-CMCC-CCLM5-0-9</td>\n",
       "      <td>1.486467</td>\n",
       "      <td>cordex-cpm</td>\n",
       "      <td>standard</td>\n",
       "      <td>EC-EARTH</td>\n",
       "    </tr>\n",
       "    <tr>\n",
       "      <th>108</th>\n",
       "      <td>CNRM-AROME41t1</td>\n",
       "      <td>0.855392</td>\n",
       "      <td>cordex-cpm</td>\n",
       "      <td>standard</td>\n",
       "      <td>CNRM-CM5</td>\n",
       "    </tr>\n",
       "    <tr>\n",
       "      <th>109</th>\n",
       "      <td>COSMO-pompa</td>\n",
       "      <td>0.769881</td>\n",
       "      <td>cordex-cpm</td>\n",
       "      <td>standard</td>\n",
       "      <td>MPI-ESM-LR</td>\n",
       "    </tr>\n",
       "    <tr>\n",
       "      <th>106</th>\n",
       "      <td>GERICS-REMO2015</td>\n",
       "      <td>1.861492</td>\n",
       "      <td>cordex-cpm</td>\n",
       "      <td>standard</td>\n",
       "      <td>MPI-ESM-LR</td>\n",
       "    </tr>\n",
       "    <tr>\n",
       "      <th>112</th>\n",
       "      <td>HCLIMcom-HCLIM38-AROME</td>\n",
       "      <td>1.587695</td>\n",
       "      <td>cordex-cpm</td>\n",
       "      <td>standard</td>\n",
       "      <td>EC-EARTH</td>\n",
       "    </tr>\n",
       "    <tr>\n",
       "      <th>111</th>\n",
       "      <td>HadREM3-RA-UM10.1</td>\n",
       "      <td>1.192328</td>\n",
       "      <td>cordex-cpm</td>\n",
       "      <td>standard</td>\n",
       "      <td>HadGEM2-ES</td>\n",
       "    </tr>\n",
       "    <tr>\n",
       "      <th>113</th>\n",
       "      <td>ICTP-RegCM4-7-0</td>\n",
       "      <td>1.418089</td>\n",
       "      <td>cordex-cpm</td>\n",
       "      <td>standard</td>\n",
       "      <td>HadGEM2-ES</td>\n",
       "    </tr>\n",
       "    <tr>\n",
       "      <th>107</th>\n",
       "      <td>KNMI-HCLIM38h1-AROME</td>\n",
       "      <td>1.793779</td>\n",
       "      <td>cordex-cpm</td>\n",
       "      <td>standard</td>\n",
       "      <td>EC-EARTH</td>\n",
       "    </tr>\n",
       "  </tbody>\n",
       "</table>\n",
       "</div>"
      ],
      "text/plain": [
       "                      model     value     project data type    ancestor\n",
       "110   CLMcom-CMCC-CCLM5-0-9  1.486467  cordex-cpm  standard    EC-EARTH\n",
       "108          CNRM-AROME41t1  0.855392  cordex-cpm  standard    CNRM-CM5\n",
       "109             COSMO-pompa  0.769881  cordex-cpm  standard  MPI-ESM-LR\n",
       "106         GERICS-REMO2015  1.861492  cordex-cpm  standard  MPI-ESM-LR\n",
       "112  HCLIMcom-HCLIM38-AROME  1.587695  cordex-cpm  standard    EC-EARTH\n",
       "111       HadREM3-RA-UM10.1  1.192328  cordex-cpm  standard  HadGEM2-ES\n",
       "113         ICTP-RegCM4-7-0  1.418089  cordex-cpm  standard  HadGEM2-ES\n",
       "107    KNMI-HCLIM38h1-AROME  1.793779  cordex-cpm  standard    EC-EARTH"
      ]
     },
     "execution_count": 5,
     "metadata": {},
     "output_type": "execute_result"
    }
   ],
   "source": [
    "df.query(\"project=='cordex-cpm'\").sort_values('model')"
   ]
  }
 ],
 "metadata": {
  "interpreter": {
   "hash": "f4db2368e207c744fd44da6934b57d0825433950c24bc3f438e493686d7df282"
  },
  "kernelspec": {
   "display_name": "Python 3.9.7 ('pyviz')",
   "language": "python",
   "name": "python3"
  },
  "language_info": {
   "codemirror_mode": {
    "name": "ipython",
    "version": 3
   },
   "file_extension": ".py",
   "mimetype": "text/x-python",
   "name": "python",
   "nbconvert_exporter": "python",
   "pygments_lexer": "ipython3",
   "version": "3.9.7"
  },
  "orig_nbformat": 4
 },
 "nbformat": 4,
 "nbformat_minor": 2
}
