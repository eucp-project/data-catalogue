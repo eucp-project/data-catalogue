{
 "cells": [
  {
   "cell_type": "markdown",
   "metadata": {},
   "source": [
    "#### Update content of the CPM Atlas - analysis plots for diurnal cycles of precipitation<br>\n",
    "Author          : Team BETA<br>\n",
    "Return Values   : png files<br>\n",
    "Source data     : The data is preprocessed and provided by Petter Lind."
   ]
  },
  {
   "cell_type": "code",
   "execution_count": 1,
   "metadata": {},
   "outputs": [],
   "source": [
    "import numpy as np\n",
    "import xarray as xr\n",
    "from pathlib import Path"
   ]
  },
  {
   "cell_type": "code",
   "execution_count": 2,
   "metadata": {},
   "outputs": [],
   "source": [
    "# path to datasets\n",
    "path_data = \"/mnt/d/NLeSC/BETA/EUCP/Data_Catalogue/data_Petter_Lind/diurnal\""
   ]
  },
  {
   "cell_type": "code",
   "execution_count": 3,
   "metadata": {},
   "outputs": [
    {
     "name": "stdout",
     "output_type": "stream",
     "text": [
      "[PosixPath('/mnt/d/NLeSC/BETA/EUCP/Data_Catalogue/data_Petter_Lind/diurnal/CPM/reu-3_ethz-cclm_ecmwf-erai_rcp85_diurnal_cycle_amount_pr_1hr_mean_native_grid_2080-2089_JJA.nc')]\n"
     ]
    }
   ],
   "source": [
    "directory = path_data + \"/CPM\"\n",
    "b = 'reu-3_ethz-cclm_ecmwf-erai_rcp85_'\n",
    "c = [a for a in Path(directory).iterdir() if(b in a.stem)]\n",
    "print (c)"
   ]
  },
  {
   "cell_type": "code",
   "execution_count": 4,
   "metadata": {},
   "outputs": [],
   "source": [
    "# define availability of models by region\n",
    "models_avai_cpm = {\n",
    "    'NW': {\n",
    "        'CNRM': 'nwe-3_cnrm-arome_cnrm-cm5',\n",
    "        'KNMI': 'alp-3_hclim-knmi_ec-earth',\n",
    "        'ETHZ': 'reu-3_ethz-cclm_ecmwf-erai',\n",
    "        'UKMO': 'reu-3_mohc-um10.1_hadgem3-gc3.1',\n",
    "    },\n",
    "    'SW': {\n",
    "        'CMCC': 'swe-3_cclm_ec-earth',\n",
    "        'IPSL': 'swe-3_ipsl-wrf_ipsl-cm6',\n",
    "        'ETHZ': 'reu-3_ethz-cclm_ecmwf-erai',\n",
    "        'UKMO': 'reu-3_mohc-um10.1_hadgem3-gc3.1'\n",
    "    }\n",
    "}\n",
    "\n",
    "        # SE: ['ICTP', 'ETHZ', 'UKMO'],\n",
    "        # C: ['GERICS', 'ETHZ', 'UKMO'],\n",
    "        # CE: ['SMHI', 'ICTP', 'ETHZ', 'UKMO'],\n",
    "        # N: ['SMHI', 'GERICS'],\n",
    "        # AL: ['CNRM', 'CMCC', 'IPSL', 'KNMI', 'GERICS', 'ETHZ', 'SMHI', 'ICTP', 'UKMO']"
   ]
  },
  {
   "cell_type": "code",
   "execution_count": 5,
   "metadata": {},
   "outputs": [],
   "source": [
    "# define geometries for clipping by regions\n",
    "regions = {\n",
    "  \"NW\": [\n",
    "    {\n",
    "      'type': 'Polygon',\n",
    "      'coordinates': [[[-8.0, 40.4], [11.0, 40.4], [15.2, 58.6], [-12.5, 58.6], [-8.0, 40.4]]]\n",
    "    }\n",
    "  ],\n",
    "  \"SW\": [\n",
    "    {\n",
    "      'type': 'Polygon',\n",
    "      'coordinates': [[[-10, 30], [7.4, 33], [5.7, 48.9], [-15, 45.4], [-10, 30]]]\n",
    "    }\n",
    "  ],\n",
    "  \"SE\": [\n",
    "    {\n",
    "      'type': 'Polygon',\n",
    "      'coordinates': [[[12.5, 34.3], [28.5, 34.3], [29.4, 40.9], [11.5, 40.9], [12.5, 34.3]]]\n",
    "    }\n",
    "  ],\n",
    "  \"C\": [\n",
    "    {\n",
    "      'type': 'Polygon',\n",
    "      'coordinates': [[[5.0, 44.5], [18.0, 45.5], [18.0, 56.0], [1.0, 53.0], [5.0, 44.5]]]\n",
    "    }\n",
    "  ],\n",
    "  \"CE\": [\n",
    "    {\n",
    "      'type': 'Polygon',\n",
    "      'coordinates': [[[17.8, 41.5], [31.3, 41.5], [32.8, 51.6], [16.4, 51.6], [17.8, 41.5]]]\n",
    "    }\n",
    "  ],\n",
    "  \"N\": [\n",
    "    {\n",
    "      'type': 'Polygon',\n",
    "      'coordinates': [[[1, 50.7], [26.7, 49.7], [44.1, 70.6], [-9.4, 72.6], [1, 50.7]]]\n",
    "    }\n",
    "  ],\n",
    "  \"AL\": [\n",
    "    {\n",
    "      'type': 'Polygon',\n",
    "      'coordinates': [[[1, 40], [17, 40], [17, 50], [1, 50], [1, 40]]]\n",
    "    }\n",
    "  ]\n",
    "}"
   ]
  },
  {
   "cell_type": "code",
   "execution_count": 6,
   "metadata": {},
   "outputs": [
    {
     "name": "stdout",
     "output_type": "stream",
     "text": [
      "CNRM\n",
      "KNMI\n",
      "ETHZ\n",
      "UKMO\n",
      "CMCC\n",
      "IPSL\n",
      "ETHZ\n",
      "UKMO\n"
     ]
    },
    {
     "ename": "KeyError",
     "evalue": "'SE'",
     "output_type": "error",
     "traceback": [
      "\u001b[0;31m---------------------------------------------------------------------------\u001b[0m",
      "\u001b[0;31mKeyError\u001b[0m                                  Traceback (most recent call last)",
      "\u001b[1;32m/home/yangliu/EUCP/data-catalogue/python/diurnal_cycles_plots.ipynb Cell 7'\u001b[0m in \u001b[0;36m<cell line: 1>\u001b[0;34m()\u001b[0m\n\u001b[1;32m      <a href='vscode-notebook-cell://wsl%2Bubuntu-20.04/home/yangliu/EUCP/data-catalogue/python/diurnal_cycles_plots.ipynb#ch0000008vscode-remote?line=0'>1</a>\u001b[0m \u001b[39mfor\u001b[39;00m region_alias \u001b[39min\u001b[39;00m regions\u001b[39m.\u001b[39mkeys():\n\u001b[1;32m      <a href='vscode-notebook-cell://wsl%2Bubuntu-20.04/home/yangliu/EUCP/data-catalogue/python/diurnal_cycles_plots.ipynb#ch0000008vscode-remote?line=1'>2</a>\u001b[0m     \u001b[39m# create empty dict to host the data\u001b[39;00m\n\u001b[1;32m      <a href='vscode-notebook-cell://wsl%2Bubuntu-20.04/home/yangliu/EUCP/data-catalogue/python/diurnal_cycles_plots.ipynb#ch0000008vscode-remote?line=2'>3</a>\u001b[0m     precipitation_diurnal \u001b[39m=\u001b[39m {}\n\u001b[0;32m----> <a href='vscode-notebook-cell://wsl%2Bubuntu-20.04/home/yangliu/EUCP/data-catalogue/python/diurnal_cycles_plots.ipynb#ch0000008vscode-remote?line=3'>4</a>\u001b[0m     \u001b[39mfor\u001b[39;00m model \u001b[39min\u001b[39;00m models_avai_cpm[\u001b[39mf\u001b[39;49m\u001b[39m'\u001b[39;49m\u001b[39m{\u001b[39;49;00mregion_alias\u001b[39m}\u001b[39;49;00m\u001b[39m'\u001b[39;49m]\u001b[39m.\u001b[39mkeys():\n\u001b[1;32m      <a href='vscode-notebook-cell://wsl%2Bubuntu-20.04/home/yangliu/EUCP/data-catalogue/python/diurnal_cycles_plots.ipynb#ch0000008vscode-remote?line=4'>5</a>\u001b[0m         \u001b[39mprint\u001b[39m(model)\n",
      "\u001b[0;31mKeyError\u001b[0m: 'SE'"
     ]
    }
   ],
   "source": [
    "for region_alias in regions.keys():\n",
    "    # create empty dict to host the data\n",
    "    precipitation_diurnal = {}\n",
    "    for model in models_avai_cpm[f'{region_alias}'].keys():\n",
    "        print(model)\n",
    "        # clipped_region = region_clip(data, region_alias)\n",
    "        "
   ]
  }
 ],
 "metadata": {
  "interpreter": {
   "hash": "08d8a5f855c7a1e3d1e204794a733da246b168cd162c0e6afd9e496498bf62ad"
  },
  "kernelspec": {
   "display_name": "Python 3.8.12 ('eucp')",
   "language": "python",
   "name": "python3"
  },
  "language_info": {
   "codemirror_mode": {
    "name": "ipython",
    "version": 3
   },
   "file_extension": ".py",
   "mimetype": "text/x-python",
   "name": "python",
   "nbconvert_exporter": "python",
   "pygments_lexer": "ipython3",
   "version": "3.8.12"
  },
  "orig_nbformat": 4
 },
 "nbformat": 4,
 "nbformat_minor": 2
}
