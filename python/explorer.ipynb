{
 "cells": [
  {
   "cell_type": "markdown",
   "metadata": {},
   "source": [
    "#### Update content of the CPM Atlas - generate maps based on the CPM data <br>\n",
    "Author          : Team BETA<br>\n",
    "Return Values   : png files<br>\n",
    "Source data     : The data is preprocessed and provided by Tom Crocker from Met Office."
   ]
  },
  {
   "cell_type": "code",
   "execution_count": 4,
   "metadata": {},
   "outputs": [],
   "source": [
    "import os\n",
    "from pathlib import Path\n",
    "from itertools import product\n",
    "import numpy as np\n",
    "import xarray as xr\n",
    "# plotting\n",
    "import matplotlib\n",
    "import matplotlib.pyplot as plt\n",
    "import cartopy.crs as crs\n",
    "from cartopy import feature as cfeature\n",
    "# for clipping\n",
    "import rioxarray"
   ]
  },
  {
   "cell_type": "code",
   "execution_count": 2,
   "metadata": {},
   "outputs": [],
   "source": [
    "# function for plotting maps\n",
    "def plot_map(dataset, outfile, region):\n",
    "    # Plot\n",
    "    fig = plt.figure(dpi=120)\n",
    "    ax = fig.add_subplot(111, projection=crs.PlateCarree())\n",
    "    dataset.plot(ax=ax, cmap=\"BrBG\")\n",
    "    \n",
    "    # Prettify\n",
    "    ax.add_feature(cfeature.OCEAN, zorder=2)\n",
    "    ax.coastlines(zorder=3)\n",
    "    ax.set_title(f'{region}')\n",
    "    ax.axis('off')\n",
    "\n",
    "    # Save\n",
    "    fig.savefig(outfile)\n",
    "    plt.close()\n",
    "\n",
    "def region_clip(infile, region):\n",
    "    # load dataset\n",
    "    xds = xr.open_dataset(infile)\n",
    "    # drop unused variables, otherwise it will cause \n",
    "    # an error when configuring the coordinate system\n",
    "    xds = xds.drop_vars(\"lat_bnds\")\n",
    "    xds = xds.drop_vars(\"lon_bnds\")\n",
    "    # set-up the coordinate system known to rio\n",
    "    xds.rio.write_crs(\"EPSG:4326\", inplace=True)\n",
    "    # clip data\n",
    "    clipped_data = xds.unknown.rio.clip(regions[region], \"EPSG:4326\", all_touched=True)\n",
    "\n",
    "    return clipped_data\n"
   ]
  },
  {
   "cell_type": "code",
   "execution_count": 7,
   "metadata": {},
   "outputs": [],
   "source": [
    "# define geometries for clipping by regions\n",
    "regions = {\n",
    "  \"NW\": [\n",
    "    {\n",
    "      'type': 'Polygon',\n",
    "      'coordinates': [[[-8.0, 40.4], [11.0, 40.4], [15.2, 58.6], [-12.5, 58.6], [-8.0, 40.4]]]\n",
    "    }\n",
    "  ],\n",
    "  \"SW\": [\n",
    "    {\n",
    "      'type': 'Polygon',\n",
    "      'coordinates': [[[-10, 30], [7.4, 33], [5.7, 48.9], [-15, 45.4], [-10, 30]]]\n",
    "    }\n",
    "  ],\n",
    "  \"SE\": [\n",
    "    {\n",
    "      'type': 'Polygon',\n",
    "      'coordinates': [[[12.5, 34.3], [28.5, 34.3], [29.4, 40.9], [11.5, 40.9], [12.5, 34.3]]]\n",
    "    }\n",
    "  ],\n",
    "  \"C\": [\n",
    "    {\n",
    "      'type': 'Polygon',\n",
    "      'coordinates': [[[5.0, 44.5], [18.0, 45.5], [18.0, 56.0], [1.0, 53.0], [5.0, 44.5]]]\n",
    "    }\n",
    "  ],\n",
    "  \"CE\": [\n",
    "    {\n",
    "      'type': 'Polygon',\n",
    "      'coordinates': [[[17.8, 41.5], [31.3, 41.5], [32.8, 51.6], [16.4, 51.6], [17.8, 41.5]]]\n",
    "    }\n",
    "  ],\n",
    "  \"N\": [\n",
    "    {\n",
    "      'type': 'Polygon',\n",
    "      'coordinates': [[[1, 50.7], [26.7, 49.7], [44.1, 70.6], [-9.4, 72.6], [1, 50.7]]]\n",
    "    }\n",
    "  ],\n",
    "  \"AL\": [\n",
    "    {\n",
    "      'type': 'Polygon',\n",
    "      'coordinates': [[[1, 40], [17, 40], [17, 50], [1, 50], [1, 40]]]\n",
    "    }\n",
    "  ]\n",
    "}"
   ]
  },
  {
   "cell_type": "code",
   "execution_count": null,
   "metadata": {},
   "outputs": [],
   "source": [
    "path_data = \"/mnt/d/NLeSC/BETA/EUCP/Data_Catalogue/data_Tom\"\n",
    "\n",
    "# load all datasets and plot maps\n",
    "seasons = ['DJF', 'MAM', 'JJA', 'SON']\n",
    "variables = ['pr', 'tas']\n",
    "#projects = ['CMIP5', 'CMIP6', 'CORDEX', 'cordex-cpm']\n",
    "\n",
    "for variable, season, region in product(variables, seasons, regions.keys()):\n",
    "    directory = path_data + f\"/{variable}_anoms/main/{season}\"\n",
    "    for infile in Path(directory).iterdir():\n",
    "        project, model, _, season = infile.stem.split('_')\n",
    "        if project == \"cordex-cpm\":\n",
    "            model, redundant_region = model.split(' ')\n",
    "        # to handle the exception when the clipped region is empty\n",
    "        try:\n",
    "           clipped_region = region_clip(infile)\n",
    "           outfile = f\"../static/maps/{region}/{variable}/{project}_{model}_{season}.png\"\n",
    "           plot_map(clipped_region, outfile, region)\n",
    "           print(f\"Processed {infile}, created {outfile}.\")\n",
    "        except:\n",
    "            pass"
   ]
  }
 ],
 "metadata": {
  "interpreter": {
   "hash": "e7604e8ec5f09e490e10161e37a4725039efd3ab703d81b1b8a1e00d6741866c"
  },
  "kernelspec": {
   "display_name": "Python 3.8.5 ('base')",
   "language": "python",
   "name": "python3"
  },
  "language_info": {
   "codemirror_mode": {
    "name": "ipython",
    "version": 3
   },
   "file_extension": ".py",
   "mimetype": "text/x-python",
   "name": "python",
   "nbconvert_exporter": "python",
   "pygments_lexer": "ipython3",
   "version": "3.8.5"
  },
  "orig_nbformat": 4
 },
 "nbformat": 4,
 "nbformat_minor": 2
}
